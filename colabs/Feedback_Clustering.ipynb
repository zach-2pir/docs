{
  "nbformat": 4,
  "nbformat_minor": 0,
  "metadata": {
    "colab": {
      "provenance": [],
      "include_colab_link": true
    },
    "kernelspec": {
      "name": "python3",
      "display_name": "Python 3"
    },
    "language_info": {
      "name": "python"
    }
  },
  "cells": [
    {
      "cell_type": "markdown",
      "metadata": {
        "id": "view-in-github",
        "colab_type": "text"
      },
      "source": [
        "<a href=\"https://colab.research.google.com/github/zach-2pir/docs/blob/main/colabs/Feedback_Clustering.ipynb\" target=\"_parent\"><img src=\"https://colab.research.google.com/assets/colab-badge.svg\" alt=\"Open In Colab\"/></a>"
      ]
    },
    {
      "cell_type": "markdown",
      "source": [
        "# WithPi Contract Calibration\n",
        "\n",
        "This colab assumes that you already went through [Input Generation](https://colab.research.google.com/github/withpi/cookbook-withpi/blob/main/colabs/Input_Generation.ipynb), and now wish to calibrate your prompt.\n",
        "\n",
        "We will walk through the same `Aesop AI` example, but you can load any contract here. Let's dig in!\n",
        "\n",
        "This should take about **15 minutes**, even if you're unfamiliar with Colab."
      ],
      "metadata": {
        "id": "Bwm4tjdnedp6"
      }
    },
    {
      "cell_type": "markdown",
      "source": [
        "## Install and initialize SDK\n",
        "\n",
        "Connect to a regular CPU Python 3 runtime.  You won't need GPUs for this notebook.\n",
        "\n",
        "You'll need a WITHPI_API_KEY from https://play.withpi.ai.  Add it to your notebook secrets (the key symbol) on the left.\n",
        "\n",
        "Run the cell below to install packages and load the SDK"
      ],
      "metadata": {
        "id": "9HBxNR2oerzC"
      }
    },
    {
      "cell_type": "code",
      "execution_count": null,
      "metadata": {
        "id": "VXIRVg-sMv-S"
      },
      "outputs": [],
      "source": [
        "%%capture\n",
        "\n",
        "%pip install withpi httpx pandas\n",
        "\n",
        "import os\n",
        "from google.colab import userdata\n",
        "from withpi import PiClient\n",
        "\n",
        "os.environ[\"WITHPI_API_KEY\"] = userdata.get('WITHPI_API_KEY')\n",
        "\n",
        "client = PiClient()"
      ]
    },
    {
      "cell_type": "markdown",
      "source": [
        "# Load contract and Dataset\n",
        "\n",
        "Load the `Aesop AI` example and example set from Pi Labs cookbooks, or edit below to load a different one.\n"
      ],
      "metadata": {
        "id": "s7RRO3iXjYbY"
      }
    },
    {
      "cell_type": "code",
      "source": [
        "import httpx\n",
        "import pandas as pd\n",
        "from google.colab import data_table\n",
        "from withpi.types import Contract\n",
        "\n",
        "resp = httpx.get(\"https://raw.githubusercontent.com/withpi/cookbook-withpi/refs/heads/main/contracts/aesop_ai.json\")\n",
        "\n",
        "aesop_contract = Contract.model_validate_json(resp.content)\n",
        "\n",
        "for dimension in aesop_contract.dimensions:\n",
        "  print(dimension.label)\n",
        "  for sub_dimension in dimension.sub_dimensions:\n",
        "    print(f\"\\t{sub_dimension.description}\")\n",
        "\n",
        "df = pd.read_parquet(\"https://raw.githubusercontent.com/withpi/cookbook-withpi/refs/heads/main/datasets/aesop_ai_examples.parquet\")\n",
        "data_table.enable_dataframe_formatter()\n",
        "df\n"
      ],
      "metadata": {
        "id": "oXJmb89i5iN5"
      },
      "execution_count": null,
      "outputs": []
    },
    {
      "cell_type": "markdown",
      "source": [
        "## Cluster Inputs\n",
        "\n",
        "We're going to label some inputs as \"good\" and \"bad\", but to do this it is helpful to focus on a few different types of input.  We'll use clustering to make sure we don't have to look at too many examples."
      ],
      "metadata": {
        "id": "j1FAoBqU7dwf"
      }
    },
    {
      "cell_type": "code",
      "source": [
        "input_topic_clusters = client.data.inputs.cluster(\n",
        "    inputs=[{\"identifier\": str(index), \"llm_input\": row[\"input\"]} for index, row in df.iterrows()],\n",
        ")\n",
        "\n",
        "df['cluster'] = ['']*len(df)\n",
        "for cluster in input_topic_clusters:\n",
        "  for identifier in cluster.inputs:\n",
        "    df.loc[int(identifier),'cluster'] = cluster.topic\n",
        "df"
      ],
      "metadata": {
        "id": "4NpCZhP6exgI"
      },
      "execution_count": null,
      "outputs": []
    },
    {
      "cell_type": "markdown",
      "source": [
        "## Identify outliers\n",
        "\n",
        "Let's first score every input against the contract, adding that as a column.  Pi scoring is fast enough that serially processing the dataset is fine, though we could increase parallelism for more speed."
      ],
      "metadata": {
        "id": "fCHE6g_OCqCD"
      }
    },
    {
      "cell_type": "code",
      "source": [
        "df[\"uncalibrated_scores\"] = [client.contracts.score(contract=aesop_contract, llm_input=row[\"input\"], llm_output=row[\"output\"]).total_score for idx, row in df.iterrows()]\n",
        "df"
      ],
      "metadata": {
        "id": "57EujAhfC_qz"
      },
      "execution_count": null,
      "outputs": []
    },
    {
      "cell_type": "markdown",
      "source": [
        "## Label data\n",
        "\n",
        "Now it's time to label examples against a simple statement.  **The response fully satisfies the input according to the contract**.  Valid responses are **Strongly Agree**, **Agree**, **Neutral**, **Disagree**, and **Strongly Disagree**, or simply **5** down to **1**.\n",
        "\n",
        "The below cell will select a high and low scoring exemplar from each cluster, asking you to respond **5** through **1**"
      ],
      "metadata": {
        "id": "rMTmieU9xPgT"
      }
    },
    {
      "cell_type": "code",
      "source": [
        "df[\"label\"]= ['']*len(df)\n",
        "\n",
        "def get_label(row):\n",
        "  display(\"Input Prompt:\")\n",
        "  display(row.loc[\"input\"])\n",
        "  display(\"Output Response:\")\n",
        "  display(row.loc[\"output\"])\n",
        "  while True:\n",
        "    resp = input(\"Your rating from 1 to 5: \")\n",
        "    try:\n",
        "      if int(resp) not in [1,2,3,4,5]:\n",
        "        raise ValueError(\"Invalid\")\n",
        "    except:\n",
        "      display(\"Invalid input. Try again\")\n",
        "      continue\n",
        "    break\n",
        "  df.loc[row.name,'label'] = resp\n",
        "\n",
        "clusters = [x for _, x in df.groupby(df[\"cluster\"])]\n",
        "for cluster in clusters:\n",
        "  sorted = cluster.sort_values(by=['uncalibrated_scores'])\n",
        "  get_label(sorted.iloc[0])\n",
        "  get_label(sorted.iloc[-1])"
      ],
      "metadata": {
        "id": "kdaF7pnIGYxa"
      },
      "execution_count": null,
      "outputs": []
    },
    {
      "cell_type": "markdown",
      "source": [
        "## Calibrate\n",
        "\n",
        "Now it's time to calibrate with the labelled sets.  The following cell will launch a job."
      ],
      "metadata": {
        "id": "yR-YSyrYM4-z"
      }
    },
    {
      "cell_type": "code",
      "source": [
        "def to_rating(label):\n",
        "  match label:\n",
        "    case '1':\n",
        "      return \"Strongly Disagree\"\n",
        "    case '2':\n",
        "      return \"Disagree\"\n",
        "    case '3':\n",
        "      return \"Neutral\"\n",
        "    case '4':\n",
        "      return \"Agree\"\n",
        "    case '5':\n",
        "      return \"Strongly Agree\"\n",
        "\n",
        "labelled = df[df['label'] != '']\n",
        "contract_calibration_status = client.contracts.calibrate.start_job(\n",
        "    contract=aesop_contract,\n",
        "    examples=[{\"llm_input\": row['input'], \"llm_output\": row['output'], \"rating\": to_rating(row['label'])} for _, row in labelled.iterrows()]\n",
        ")"
      ],
      "metadata": {
        "id": "O-4aZQ4YM9FL"
      },
      "execution_count": null,
      "outputs": []
    },
    {
      "cell_type": "markdown",
      "source": [
        "# Monitor for completion\n",
        "\n",
        "The next cell will monitor logs from the calibration job, ending when it's complete."
      ],
      "metadata": {
        "id": "AfOpDKMsOffg"
      }
    },
    {
      "cell_type": "code",
      "source": [
        "import json\n",
        "\n",
        "while True:\n",
        "  calibrated_response = client.contracts.calibrate.retrieve(job_id=contract_calibration_status.job_id)\n",
        "  if (calibrated_response.state != 'QUEUED') and (calibrated_response.state != 'RUNNING'):\n",
        "    break\n",
        "\n",
        "  with client.contracts.calibrate.with_streaming_response.stream_messages(\n",
        "      job_id=contract_calibration_status.job_id, timeout=None) as response:\n",
        "    for line in response.iter_lines():\n",
        "          print(line)\n",
        "\n",
        "aesop_contract_calibrated = calibrated_response.calibrated_contract"
      ],
      "metadata": {
        "id": "5jnONgywOg7o"
      },
      "execution_count": null,
      "outputs": []
    },
    {
      "cell_type": "markdown",
      "source": [
        "## Rescore after calibration\n",
        "\n",
        "Now add a new column with calibrated scores. You can examine these to see if they more closely align with the examples you labelled.  Ideally the score starts separating good responses from bad.\n",
        "\n",
        "If it does not, that suggests the properties you **really** care about aren't captured in your scoring dimensions and will need to be added.  Proceed to the playgrounds at http://play.withpi.ai to experiment with this.\n",
        "\n",
        "If this is looking good, you have a powerful function for improving your system."
      ],
      "metadata": {
        "id": "mn4kg54Yixzn"
      }
    },
    {
      "cell_type": "code",
      "source": [
        "df[\"calibrated_scores\"] = [client.contracts.score(contract=aesop_contract_calibrated, llm_input=row[\"input\"], llm_output=row[\"output\"]).total_score for idx, row in df.iterrows()]\n",
        "df"
      ],
      "metadata": {
        "id": "Cxd-uOBaOQQh"
      },
      "execution_count": null,
      "outputs": []
    },
    {
      "cell_type": "markdown",
      "source": [
        "## Save calibrated contract\n",
        "\n",
        "The updated contract now has different weights assigned to its dimensions.  Save those for later."
      ],
      "metadata": {
        "id": "rAaeXLrijCrK"
      }
    },
    {
      "cell_type": "code",
      "source": [
        "from pathlib import Path\n",
        "from google.colab import files\n",
        "\n",
        "filename = 'aesop_ai_calibrated.json'\n",
        "Path(filename).write_text(aesop_contract_calibrated.model_dump_json(indent=2))\n",
        "files.download(filename)"
      ],
      "metadata": {
        "id": "tpWpFWfEwo4j"
      },
      "execution_count": null,
      "outputs": []
    },
    {
      "cell_type": "markdown",
      "source": [
        "## Next Steps\n",
        "\n",
        "Now that you have a calibrated contract, you can start incorporating Feedback to improve your system.   Proceed on to the [Feedback Clustering](https://colab.research.google.com/github/withpi/cookbook-withpi/blob/main/colabs/Feedback_Clustering.ipynb) colab to do this."
      ],
      "metadata": {
        "id": "jT7s_nuJsHbM"
      }
    }
  ]
}
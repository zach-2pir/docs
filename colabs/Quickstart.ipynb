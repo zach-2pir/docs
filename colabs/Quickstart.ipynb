{
  "cells": [
    {
      "cell_type": "markdown",
      "metadata": {
        "id": "view-in-github",
        "colab_type": "text"
      },
      "source": [
        "<a href=\"https://colab.research.google.com/github/zach-2pir/docs/blob/main/colabs/Quickstart.ipynb\" target=\"_parent\"><img src=\"https://colab.research.google.com/assets/colab-badge.svg\" alt=\"Open In Colab\"/></a>"
      ]
    },
    {
      "cell_type": "markdown",
      "metadata": {
        "id": "pi-masthead"
      },
      "source": [
        "<a href=\"https://withpi.ai\"><img src=\"https://play.withpi.ai/logo/logoFullBlack.svg\" width=\"240\"></a>\n",
        "\n",
        "<a href=\"https://code.withpi.ai\"><font size=\"4\">Documentation</font></a>\n",
        "\n",
        "<a href=\"https://play.withpi.ai\"><font size=\"4\">Technique Catalog</font></a>"
      ]
    },
    {
      "cell_type": "markdown",
      "metadata": {
        "id": "Bwm4tjdnedp6"
      },
      "source": [
        "# Prompt Optimization with ScoringSpec\n",
        "\n",
        "This Colab is the companion to the \"Prompt iteration with scoring\" Playground, which introduces the core concept of Pi, the **ScoringSpec**.\n",
        "\n",
        "A **ScoringSpec** is a **human and machine readable** description of what **goodness** means to you and is the cornerstone of our approach because it lets you measure improvements mechanically, while still being explainable.\n",
        "\n",
        "See https://build.withpi.ai/techniques/scoring_system/scoring_manual_calibration for more information.\n",
        "\n",
        "This colab will walk you through generating a **ScoringSpec**, scoring some responses with it, and tinkering with your application description to improve it."
      ]
    },
    {
      "cell_type": "markdown",
      "metadata": {
        "id": "pi-setup-markdown"
      },
      "source": [
        "## Install and initialize SDK\n",
        "\n",
        "Connect to a regular CPU Python 3 runtime.  You won't need GPUs for this notebook.\n",
        "\n",
        "You'll need a WITHPI_API_KEY from https://play.withpi.ai.  Add it to your notebook secrets (the key symbol) on the left.\n",
        "\n",
        "Run the cell below to install packages and load the SDK"
      ]
    },
    {
      "cell_type": "code",
      "execution_count": null,
      "metadata": {
        "id": "pi-setup"
      },
      "outputs": [],
      "source": [
        "%%capture\n",
        "\n",
        "%pip install withpi withpi-utils datasets tqdm litellm\n",
        "\n",
        "import os\n",
        "from google.colab import userdata\n",
        "from withpi import PiClient\n",
        "\n",
        "# Load the notebook secret into the environment so the Pi Client can access it.\n",
        "os.environ[\"WITHPI_API_KEY\"] = userdata.get('WITHPI_API_KEY')\n",
        "\n",
        "client = PiClient()"
      ]
    },
    {
      "cell_type": "markdown",
      "metadata": {
        "id": "s7RRO3iXjYbY"
      },
      "source": [
        "# Make a Scoring Spec\n",
        "\n",
        "Let's say you want to build an application that generates children's stories teaching a life lesson.  Call it `AesopAI`.\n",
        "\n",
        "Start by creating a first cut scoring spec based on that general input, proposed in the following cell:\n"
      ]
    },
    {
      "cell_type": "code",
      "execution_count": null,
      "metadata": {
        "id": "oXJmb89i5iN5",
        "outputId": "3444bd09-ae18-4a9b-e3e6-05a335838dcf",
        "colab": {
          "base_uri": "https://localhost:8080/",
          "height": 850
        }
      },
      "outputs": [
        {
          "output_type": "display_data",
          "data": {
            "text/plain": [
              "<IPython.core.display.HTML object>"
            ],
            "text/html": [
              "<div style='font-family: Arial, sans-serif;'><h2 style='color: #202124; border-bottom: 2px solid #4285F4; padding-bottom: 8px; margin-bottom: 10px;'>ScoringSpec: default</h2><p style='margin-top: 0; margin-bottom: 20px; color: #5F6368;'>Write a children's story in the style of Aesop's Fables teaching a life lesson specified by the user. Provide just the story with no extra content.</p><h3 style='margin-bottom: 5px; color: #4285F4;'>Story Structure</h3><ul style='margin-top: 0; padding-left: 20px;'><li><strong>PI_SCORER:</strong> Does the response contain a complete story with a beginning, middle, and end?</li><li><strong>PI_SCORER:</strong> Does the story include a conflict or challenge that is resolved by the end?</li><li><strong>PI_SCORER:</strong> Does the story flow logically from one event to the next?</li><li><strong>PI_SCORER:</strong> Is the story an appropriate length for a children's tale, typically concise and to the point?</li></ul><h3 style='margin-bottom: 5px; color: #4285F4;'>Moral and Lesson</h3><ul style='margin-top: 0; padding-left: 20px;'><li><strong>PI_SCORER:</strong> Does the story clearly convey the life lesson specified by the user?</li><li><strong>PI_SCORER:</strong> Is the life lesson conveyed in the story clear and easy to understand?</li><li><strong>PI_SCORER:</strong> Does the story include a clear moral statement at the end?</li><li><strong>PI_SCORER:</strong> Is the life lesson seamlessly integrated into the story rather than feeling forced?</li><li><strong>PI_SCORER:</strong> Is the moral at the end directly relevant to the events of the story?</li></ul><h3 style='margin-bottom: 5px; color: #4285F4;'>Style and Language</h3><ul style='margin-top: 0; padding-left: 20px;'><li><strong>PI_SCORER:</strong> Is the language used in the story simple and appropriate for children?</li><li><strong>PI_SCORER:</strong> Is the style of the story consistent throughout?</li><li><strong>PI_SCORER:</strong> Does the story avoid overly complex ideas or language?</li><li><strong>PI_SCORER:</strong> Is the story written in a style similar to Aesop's Fables?</li></ul><h3 style='margin-bottom: 5px; color: #4285F4;'>Character and Setting</h3><ul style='margin-top: 0; padding-left: 20px;'><li><strong>PI_SCORER:</strong> Are the characters in the story simple and relatable for children?</li><li><strong>PI_SCORER:</strong> Does the story include animal characters or anthropomorphic elements typical of Aesop's Fables?</li><li><strong>PI_SCORER:</strong> Do the characters show development or learning throughout the story?</li><li><strong>PI_SCORER:</strong> Is the setting of the story described sufficiently to create a vivid image?</li></ul><h3 style='margin-bottom: 5px; color: #4285F4;'>Engagement and Creativity</h3><ul style='margin-top: 0; padding-left: 20px;'><li><strong>PI_SCORER:</strong> Is the plot of the story engaging and likely to hold a child's attention?</li><li><strong>PI_SCORER:</strong> Does the story include dialogue that contributes to the narrative?</li><li><strong>PI_SCORER:</strong> Does the story include imaginative elements that appeal to children?</li><li><strong>PI_SCORER:</strong> Does the story encourage engagement or reflection from the reader?</li></ul><h3 style='margin-bottom: 5px; color: #4285F4;'>Themes and Appropriateness</h3><ul style='margin-top: 0; padding-left: 20px;'><li><strong>PI_SCORER:</strong> Are the themes of the story appropriate and engaging for children?</li><li><strong>PI_SCORER:</strong> Does the story avoid unnecessary violence or distressing content?</li><li><strong>PI_SCORER:</strong> Does the story conclude with a positive or uplifting outcome?</li><li><strong>PI_SCORER:</strong> Is the story culturally neutral or inclusive?</li></ul><h3 style='margin-bottom: 5px; color: #4285F4;'>Educational and Additional Value</h3><ul style='margin-top: 0; padding-left: 20px;'><li><strong>PI_SCORER:</strong> Does the story provide educational value beyond the life lesson?</li></ul></div>"
            ]
          },
          "metadata": {}
        }
      ],
      "source": [
        "from withpi_utils.colab import display_scoring_spec\n",
        "\n",
        "aesop_scoring_spec = client.scoring_system.generate(\n",
        "    application_description=(\n",
        "        \"Write a children's story in the style of Aesop's Fables \"\n",
        "        \"teaching a life lesson specified by the user. Provide just the \"\n",
        "        \"story with no extra content.\"\n",
        "    ),\n",
        ")\n",
        "\n",
        "display_scoring_spec(aesop_scoring_spec)"
      ]
    },
    {
      "cell_type": "markdown",
      "metadata": {
        "id": "t4eChTjc66_f"
      },
      "source": [
        "A scoring spec is essentially a hierarchical rubric for grading a response.  A bunch of \"simple\" questions add up to broader categories, which yield a final score.  Output will vary somewhat, but the table above should have reasonable grading questions for the application."
      ]
    },
    {
      "cell_type": "markdown",
      "metadata": {
        "id": "j1FAoBqU7dwf"
      },
      "source": [
        "## Generate a response\n",
        "Let's see how it performs! The below cell uses Gemini to generate a response, but any suitable model will work fine.\n",
        "\n",
        "Adjust to pick a different model and supply your own key with docs at https://docs.litellm.ai/docs/.\n",
        "\n",
        "You can import a Google Gemini key from AI Studio on the left pane, which populates a GOOGLE_API_KEY secret.  At low rates it's free."
      ]
    },
    {
      "cell_type": "code",
      "execution_count": null,
      "metadata": {
        "id": "WhJrCijJ8I2n",
        "outputId": "2f37f41d-f11d-49db-80a0-1296e43956ce",
        "colab": {
          "base_uri": "https://localhost:8080/"
        }
      },
      "outputs": [
        {
          "output_type": "stream",
          "name": "stdout",
          "text": [
            "Barnaby the badger had a magnificent hoard of acorns.  Every sunny afternoon, he'd scavenge, burying treasures deeper and deeper in his cozy burrow.  He'd boast to the other woodland creatures about the size of his pile, his voice rumbling with pride.  The squirrels, the rabbits, and the chipmunks watched, their bellies rumbling with hunger.  The tiny field mice, too small to reach the plentiful acorns, often went without.\n",
            "\n",
            "One day, a fierce storm swept through the forest.  Trees crashed, branches snapped, and the ground was covered in a blanket of fallen leaves.  The acorns, once so carefully buried, were scattered, some lost forever. Barnaby, frantic, searched high and low, his pride turning to despair.  He had nothing left.\n",
            "\n",
            "The squirrels, though their own stores were depleted, shared the few acorns they'd managed to salvage. The rabbits offered their carrots, and the chipmunks their berries.  Even the tiny field mice, grateful for the gesture, shared their roots.  Barnaby, humbled and starving, felt a pang of regret.  He had been so caught up in hoarding, he'd forgotten the value of generosity.  He learned that day that sharing not only helps others but also brings a different kind of richness – the richness of community and companionship.  From that day forward, Barnaby shared his remaining acorns, realizing that a full belly and a full heart are worth far more than a hidden hoard.\n",
            "\n"
          ]
        }
      ],
      "source": [
        "import litellm\n",
        "\n",
        "os.environ[\"GEMINI_API_KEY\"] = userdata.get('GOOGLE_API_KEY')\n",
        "\n",
        "def generate(system: str, user: str, model: str) -> str:\n",
        "    \"\"\"generate passes the provided system and user prompts into the given model\n",
        "    via LiteLLM\"\"\"\n",
        "    messages = [\n",
        "        {\"content\": system, \"role\": \"system\"},\n",
        "        {\"content\": user, \"role\": \"user\"},\n",
        "    ]\n",
        "    return litellm.completion(model=model, messages=messages).choices[0].message.content\n",
        "\n",
        "prompt = \"The importance of sharing\"\n",
        "response = generate(\n",
        "    system=aesop_scoring_spec.description,\n",
        "    user=prompt,\n",
        "    model=\"gemini/gemini-1.5-flash-8b\")\n",
        "\n",
        "print(response)"
      ]
    },
    {
      "cell_type": "markdown",
      "metadata": {
        "id": "sU0TJGzFk-2C"
      },
      "source": [
        "## Score it!\n",
        "\n",
        "Take the generated response and see how it scores with Pi.\n",
        "\n",
        "The below cell will run Pi Scoring, evaluating each dimension in the scoring spec, offering a score from 1 (excellent!) to 0 (terrible!).  The current scoring spec is **uncalibrated**, meaning that all the dimensions are equally important, but it's a starting point for learning which are **actually** imporant based on your preferences."
      ]
    },
    {
      "cell_type": "code",
      "execution_count": null,
      "metadata": {
        "id": "4NpCZhP6exgI",
        "outputId": "ab4a95b6-0b4d-4181-c11a-3ea17c34c157",
        "colab": {
          "base_uri": "https://localhost:8080/",
          "height": 1000
        }
      },
      "outputs": [
        {
          "output_type": "display_data",
          "data": {
            "text/plain": [
              "<IPython.core.display.HTML object>"
            ],
            "text/html": [
              "\n",
              "        <div style=\"display: flex; gap: 20px;\">\n",
              "            <div style=\"width: 80%; padding: 10px; border: 1px solid #ddd; background-color: #fff9f5;\">\n",
              "                <h4><h4>Prompt:</h4>\n",
              "<p>The importance of sharing</p></h4>\n",
              "            </div>\n",
              "        </div>\n",
              "        <div style=\"display: flex; gap: 20px;\">\n",
              "            <div style=\"width: 80%; padding: 10px; border: 1px solid #ddd; background-color: #f0f0f0; text-align:center;\">\n",
              "                <h4>gemini/gemini-1.5-flash-8b</h4>\n",
              "            </div>\n",
              "        </div>\n",
              "        <div style=\"display: flex; gap: 20px;\">\n",
              "            <div style=\"width: 80%; padding: 10px; border: 1px solid #ddd;\">\n",
              "                <h4>Response:</h4>\n",
              "<p>Barnaby the badger had a magnificent hoard of acorns.  Every sunny afternoon, he'd scavenge, burying treasures deeper and deeper in his cozy burrow.  He'd boast to the other woodland creatures about the size of his pile, his voice rumbling with pride.  The squirrels, the rabbits, and the chipmunks watched, their bellies rumbling with hunger.  The tiny field mice, too small to reach the plentiful acorns, often went without.</p>\n",
              "<p>One day, a fierce storm swept through the forest.  Trees crashed, branches snapped, and the ground was covered in a blanket of fallen leaves.  The acorns, once so carefully buried, were scattered, some lost forever. Barnaby, frantic, searched high and low, his pride turning to despair.  He had nothing left.</p>\n",
              "<p>The squirrels, though their own stores were depleted, shared the few acorns they'd managed to salvage. The rabbits offered their carrots, and the chipmunks their berries.  Even the tiny field mice, grateful for the gesture, shared their roots.  Barnaby, humbled and starving, felt a pang of regret.  He had been so caught up in hoarding, he'd forgotten the value of generosity.  He learned that day that sharing not only helps others but also brings a different kind of richness – the richness of community and companionship.  From that day forward, Barnaby shared his remaining acorns, realizing that a full belly and a full heart are worth far more than a hidden hoard.</p>\n",
              "            </div>\n",
              "        </div>\n",
              "        \n",
              "            <div style=\"display: flex; gap: 20px;\">\n",
              "                <div style=\"width: 80%; padding: 10px; border: 1px solid #ddd; background-color: #f2f1fe;\">\n",
              "                    \n",
              "  <style>\n",
              "  table {\n",
              "    border-collapse: collapse; /* Ensures borders don't double up */\n",
              "    width: 100%; /* Optional: makes the table full width */\n",
              "  }\n",
              "\n",
              "  tr {\n",
              "    border-bottom: 1px solid #ccc; /* Sets a bottom border for each row */\n",
              "    border-top: 1px solid #ccc; /* Sets a bottom border for each row */\n",
              "  }\n",
              "\n",
              "  th, td {\n",
              "    font-weight: bold;\n",
              "    padding: 4px; /* Adds some spacing */\n",
              "    text-align: left; /* Aligns text to the left */\n",
              "    border-right: 1px solid #ccc; /* Sets a bottom border for each row */\n",
              "    border-left: 1px solid #ccc; /* Sets a bottom border for each row */\n",
              "  }\n",
              "  img {\n",
              "    width: 30%;\n",
              "  }\n",
              "  </style>\n",
              "  <table><tr><td><b>Story Structure</b></td><td></td><td style='color: #28b463'>0.943</td></tr>\n",
              "<tr><td></td><td style='font-weight: normal;'>Story Completeness</td><td style='color: #27ae60'>1.0</td></tr>\n",
              "<tr><td></td><td style='font-weight: normal;'>Conflict Resolution</td><td style='color: #27ae60'>0.996</td></tr>\n",
              "<tr><td></td><td style='font-weight: normal;'>Narrative Flow</td><td style='color: #27ae60'>1.0</td></tr>\n",
              "<tr><td></td><td style='font-weight: normal;'>Appropriate Length</td><td style='color: #2dc86e'>0.777</td></tr>\n",
              "\n",
              "\n",
              "<tr><td><b>Moral and Lesson</b></td><td></td><td style='color: #27ae60'>1.0</td></tr>\n",
              "<tr><td></td><td style='font-weight: normal;'>Life Lesson Inclusion</td><td style='color: #27ae60'>1.0</td></tr>\n",
              "<tr><td></td><td style='font-weight: normal;'>Lesson Clarity</td><td style='color: #27ae60'>1.0</td></tr>\n",
              "<tr><td></td><td style='font-weight: normal;'>Moral Statement Presence</td><td style='color: #27ae60'>1.0</td></tr>\n",
              "<tr><td></td><td style='font-weight: normal;'>Lesson Integration</td><td style='color: #27ae60'>1.0</td></tr>\n",
              "<tr><td></td><td style='font-weight: normal;'>Moral Relevance</td><td style='color: #27ae60'>1.0</td></tr>\n",
              "\n",
              "\n",
              "<tr><td><b>Style and Language</b></td><td></td><td style='color: #28b564'>0.934</td></tr>\n",
              "<tr><td></td><td style='font-weight: normal;'>Language Simplicity</td><td style='color: #27ae60'>1.0</td></tr>\n",
              "<tr><td></td><td style='font-weight: normal;'>Consistency in Style</td><td style='color: #27ae60'>1.0</td></tr>\n",
              "<tr><td></td><td style='font-weight: normal;'>Avoidance of Complexity</td><td style='color: #27af61'>0.98</td></tr>\n",
              "<tr><td></td><td style='font-weight: normal;'>Aesop Style Adherence</td><td style='color: #2dcb70'>0.754</td></tr>\n",
              "\n",
              "\n",
              "<tr><td><b>Character and Setting</b></td><td></td><td style='color: #29b765'>0.919</td></tr>\n",
              "<tr><td></td><td style='font-weight: normal;'>Character Simplicity</td><td style='color: #27ae60'>1.0</td></tr>\n",
              "<tr><td></td><td style='font-weight: normal;'>Animal Characters</td><td style='color: #29b865'>0.91</td></tr>\n",
              "<tr><td></td><td style='font-weight: normal;'>Character Development</td><td style='color: #27ae60'>1.0</td></tr>\n",
              "<tr><td></td><td style='font-weight: normal;'>Setting Description</td><td style='color: #2dc96f'>0.766</td></tr>\n",
              "\n",
              "\n",
              "<tr><td><b>Engagement and Creativity</b></td><td></td><td style='color: #47ca64'>0.716</td></tr>\n",
              "<tr><td></td><td style='font-weight: normal;'>Engaging Plot</td><td style='color: #27ae60'>1.0</td></tr>\n",
              "<tr><td></td><td style='font-weight: normal;'>Dialogue Presence</td><td style='color: #e67924'>0.229</td></tr>\n",
              "<tr><td></td><td style='font-weight: normal;'>Imaginative Elements</td><td style='color: #2cc56d'>0.805</td></tr>\n",
              "<tr><td></td><td style='font-weight: normal;'>Reader Engagement</td><td style='color: #2bc16b'>0.832</td></tr>\n",
              "\n",
              "\n",
              "<tr><td><b>Themes and Appropriateness</b></td><td></td><td style='color: #27ae60'>1.0</td></tr>\n",
              "<tr><td></td><td style='font-weight: normal;'>Child-Friendly Themes</td><td style='color: #27ae60'>1.0</td></tr>\n",
              "<tr><td></td><td style='font-weight: normal;'>Avoidance of Violence</td><td style='color: #27ae60'>1.0</td></tr>\n",
              "<tr><td></td><td style='font-weight: normal;'>Positive Outcome</td><td style='color: #27ae60'>1.0</td></tr>\n",
              "<tr><td></td><td style='font-weight: normal;'>Cultural Neutrality</td><td style='color: #27ae60'>1.0</td></tr>\n",
              "\n",
              "\n",
              "<tr><td><b>Educational and Additional Value</b></td><td></td><td style='color: #2ecb70'>0.746</td></tr>\n",
              "<tr><td></td><td style='font-weight: normal;'>Educational Value</td><td style='color: #2ecb70'>0.746</td></tr>\n",
              "\n",
              "\n",
              "<tr></tr>\n",
              "<tr><td>Total score</td><td></td><td style='color: #29ba67'><b>0.894</b></td></tr>\n",
              "</table>\n",
              "                </div>\n",
              "            </div>"
            ]
          },
          "metadata": {}
        }
      ],
      "source": [
        "from withpi_utils.colab import pretty_print_responses\n",
        "\n",
        "score = client.scoring_system.score(\n",
        "    scoring_spec=aesop_scoring_spec,\n",
        "    llm_input=prompt,\n",
        "    llm_output=response,\n",
        ")\n",
        "\n",
        "pretty_print_responses(\n",
        "    header=\"#### Prompt:\\n\" + prompt,\n",
        "    response1=\"#### Response:\\n\" + response,\n",
        "    left_label=\"gemini/gemini-1.5-flash-8b\",\n",
        "    scores_left=score,\n",
        ")"
      ]
    },
    {
      "cell_type": "markdown",
      "metadata": {
        "id": "k9UOAOSQn1bF"
      },
      "source": [
        "## Save it!\n",
        "\n",
        "Finally, save the ScoringSpec so you can come back to it later.\n",
        "\n",
        "A scoring spec is a simple Pydantic model, which can be serialized to JSON and stored locally.\n",
        "\n",
        "The cell below will offer a download of the scoring spec."
      ]
    },
    {
      "cell_type": "code",
      "execution_count": null,
      "metadata": {
        "id": "lPlsGumImqm1"
      },
      "outputs": [],
      "source": [
        "with open(\"aesop_ai.json\", \"w\") as file:\n",
        "    file.write(aesop_scoring_spec.model_dump_json(indent=2))"
      ]
    },
    {
      "cell_type": "markdown",
      "metadata": {
        "id": "jT7s_nuJsHbM"
      },
      "source": [
        "## Next Steps\n",
        "\n",
        "Go back and try different system prompts to see how they respond to outputs.  Try a different model.  Manually tweak the dimensions. Get a feel for what's happening.\n",
        "\n",
        "When you're ready to move beyond basic vibe checking, you'll need to take a systematic approach.  To do that, you'll need input data.  Fortunately, we have tools to help build a representative set.  Head over to the input data playground for this."
      ]
    }
  ],
  "metadata": {
    "colab": {
      "provenance": [],
      "toc_visible": true,
      "include_colab_link": true
    },
    "kernelspec": {
      "display_name": "Python 3",
      "name": "python3"
    },
    "language_info": {
      "name": "python"
    }
  },
  "nbformat": 4,
  "nbformat_minor": 0
}
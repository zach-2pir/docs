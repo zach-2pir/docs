{
  "cells": [
    {
      "cell_type": "markdown",
      "metadata": {
        "id": "view-in-github",
        "colab_type": "text"
      },
      "source": [
        "<a href=\"https://colab.research.google.com/github/zach-2pir/docs/blob/main/colabs/Scoring.ipynb\" target=\"_parent\"><img src=\"https://colab.research.google.com/assets/colab-badge.svg\" alt=\"Open In Colab\"/></a>"
      ]
    },
    {
      "cell_type": "markdown",
      "source": [
        "<a href=\"https://withpi.ai\"><img src=\"https://play.withpi.ai/logo/logoFullBlack.svg\" width=\"240\"></a>\n",
        "\n",
        "<a href=\"https://code.withpi.ai\"><font size=\"4\">Documentation</font></a>\n",
        "\n",
        "<a href=\"https://build.withpi.ai\"><font size=\"4\">Copilot</font></a>"
      ],
      "metadata": {
        "id": "pi-masthead"
      }
    },
    {
      "cell_type": "markdown",
      "metadata": {
        "id": "Bwm4tjdnedp6"
      },
      "source": [
        "# Quickstart\n",
        "\n",
        "This Colab walks you through scoring something with Pi!  It is the companion to our [Getting Started](https://code.withpi.ai/introduction) guide."
      ]
    },
    {
      "cell_type": "markdown",
      "source": [
        "## Install and initialize SDK\n",
        "\n",
        "You'll need a `WITHPI_API_KEY` from https://build.withpi.ai/account/keys.  Add it to your notebook secrets (the key symbol) on the left.\n",
        "\n",
        "Run the cell below to install packages and load the SDK"
      ],
      "metadata": {
        "id": "pi-setup-markdown"
      }
    },
    {
      "cell_type": "code",
      "metadata": {
        "id": "pi-setup"
      },
      "outputs": [],
      "execution_count": 1,
      "source": [
        "%%capture\n",
        "\n",
        "%pip install withpi withpi-utils litellm\n",
        "\n",
        "import os\n",
        "from google.colab import userdata\n",
        "from withpi import PiClient\n",
        "\n",
        "# Load the notebook secret into the environment so the Pi Client can access it.\n",
        "os.environ[\"WITHPI_API_KEY\"] = userdata.get('WITHPI_API_KEY')\n",
        "\n",
        "pi = PiClient()"
      ]
    },
    {
      "cell_type": "markdown",
      "metadata": {
        "id": "j1FAoBqU7dwf"
      },
      "source": [
        "## Generate a response to score\n",
        "\n",
        "Let's say we're building an AI to generate stories in the style of Aesop's Fables.  Below is a prompt for generating such a story.\n",
        "\n",
        "The below cell uses Gemini to generate a response, but any suitable model will do fine.\n",
        "\n",
        "You can import a Google Gemini key from AI Studio on the left pane, which populates a `GOOGLE_API_KEY` secret.  At low rates it's free.  Or adjust to a model of your choice with a key using docs at https://docs.litellm.ai/docs/."
      ]
    },
    {
      "cell_type": "code",
      "execution_count": 2,
      "metadata": {
        "id": "WhJrCijJ8I2n",
        "outputId": "f7c02df1-c995-48a9-f592-90f03d1b0cb0",
        "colab": {
          "base_uri": "https://localhost:8080/",
          "height": 422
        }
      },
      "outputs": [
        {
          "output_type": "display_data",
          "data": {
            "text/plain": [
              "<IPython.core.display.HTML object>"
            ],
            "text/html": [
              "\n",
              "        <div style=\"display: flex; gap: 20px;\">\n",
              "            <div style=\"width: 80%; padding: 10px; border: 1px solid #ddd; background-color: #f0f0f0; text-align:center;\">\n",
              "                <h4>Base</h4>\n",
              "            </div>\n",
              "        </div>\n",
              "        <div style=\"display: flex; gap: 20px;\">\n",
              "            <div style=\"width: 80%; padding: 10px; border: 1px solid #ddd;\">\n",
              "                <p>Barnaby Badger was a champion berry-picker. Every morning, he’d scamper into the sunny meadow and fill his basket to the brim with plump, juicy berries. He’d take them home to his burrow and munch them all day long, never offering a single one to anyone.</p>\n",
              "<p>One day, Pipkin Mouse scampered up to Barnaby. “Good morning, Barnaby!” she squeaked. “My family is very hungry. Could you spare a few berries?”</p>\n",
              "<p>Barnaby scowled. “These are <em>my</em> berries,” he grumbled, and quickly turned away, clutching his basket close.</p>\n",
              "<p>Later that day, Rosie Rabbit hopped over. Her nose twitched. “Barnaby, you have a wonderful supply of berries. My little ones are sick and need something sweet to help them feel better. Could you…?”</p>\n",
              "<p>But before Rosie could finish, Barnaby shook his head. “Go away!” he snapped, and scurried back inside his burrow.</p>\n",
              "<p>As the days went on, the meadow dried up. The sun beat down, and the berries began to wither. Barnaby ate and ate, but he couldn’t eat them fast enough. Soon, all his berries were rotten.</p>\n",
              "<p>Then, a terrible storm blew through the meadow. Barnaby’s burrow flooded! He was cold, wet, and starving.</p>\n",
              "<p>Suddenly, he heard Pipkin’s cheerful voice. \"Barnaby, come inside! We have some dry space and a few berries left.\"</p>\n",
              "<p>Rosie and her family greeted him with warm smiles, sharing their small supply of dried berries. They even let him snuggle near their warm bodies for the night. </p>\n",
              "<p>Barnaby had never felt so ashamed. He’d hoarded, and now he was without. </p>\n",
              "<p>As the storm passed, he looked at the others. He knew that sharing their kindness was far more valuable than his berries. From that day on, Barnaby always shared what he had, knowing that kindness, like berries, was always sweeter when shared.</p>\n",
              "<p><em>The moral of the story is: Sharing is caring, and kindness shared is a treasure that lasts forever.</em></p>\n",
              "            </div>\n",
              "        </div>\n",
              "        "
            ]
          },
          "metadata": {}
        }
      ],
      "source": [
        "import litellm\n",
        "from withpi_utils.colab import pretty_print_responses\n",
        "\n",
        "os.environ[\"GEMINI_API_KEY\"] = userdata.get('GOOGLE_API_KEY')\n",
        "\n",
        "system_prompt = \"\"\"Write a children's story in the style of Aesop's Fables\n",
        "teaching a life lesson specified by the user. Provide just the story with no\n",
        "extra content.\"\"\"\n",
        "\n",
        "test_prompt = \"The importance of sharing\"\n",
        "\n",
        "response = litellm.completion(\n",
        "    model=\"gemini/gemini-2.0-flash-lite\",\n",
        "    messages=[\n",
        "        {\"content\": system_prompt, \"role\": \"system\"},\n",
        "        {\"content\": test_prompt, \"role\": \"user\"}\n",
        "    ]).choices[0].message.content\n",
        "\n",
        "pretty_print_responses(response)"
      ]
    },
    {
      "cell_type": "markdown",
      "metadata": {
        "id": "sU0TJGzFk-2C"
      },
      "source": [
        "## Score it!\n",
        "\n",
        "Take the generated response and see how it scores with Pi.\n",
        "\n",
        "Below are some questions we might use to evaluate this response.  Pi rates each one from **0.0 - 1.0**, with 1 being the best.  The aggregation of these scores can then be used to make decisions based on this response's \"goodness\""
      ]
    },
    {
      "cell_type": "code",
      "execution_count": 3,
      "metadata": {
        "id": "4NpCZhP6exgI",
        "outputId": "f4937196-1a71-4518-befd-6fcf6bed778c",
        "colab": {
          "base_uri": "https://localhost:8080/",
          "height": 726
        }
      },
      "outputs": [
        {
          "output_type": "display_data",
          "data": {
            "text/plain": [
              "<IPython.core.display.HTML object>"
            ],
            "text/html": [
              "\n",
              "        <div style=\"display: flex; gap: 20px;\">\n",
              "            <div style=\"width: 80%; padding: 10px; border: 1px solid #ddd; background-color: #fff9f5;\">\n",
              "                <h4><h4>Prompt:</h4>\n",
              "<p>The importance of sharing</p></h4>\n",
              "            </div>\n",
              "        </div>\n",
              "        <div style=\"display: flex; gap: 20px;\">\n",
              "            <div style=\"width: 80%; padding: 10px; border: 1px solid #ddd; background-color: #f0f0f0; text-align:center;\">\n",
              "                <h4>Base</h4>\n",
              "            </div>\n",
              "        </div>\n",
              "        <div style=\"display: flex; gap: 20px;\">\n",
              "            <div style=\"width: 80%; padding: 10px; border: 1px solid #ddd;\">\n",
              "                <h4>Response:</h4>\n",
              "<p>Barnaby Badger was a champion berry-picker. Every morning, he’d scamper into the sunny meadow and fill his basket to the brim with plump, juicy berries. He’d take them home to his burrow and munch them all day long, never offering a single one to anyone.</p>\n",
              "<p>One day, Pipkin Mouse scampered up to Barnaby. “Good morning, Barnaby!” she squeaked. “My family is very hungry. Could you spare a few berries?”</p>\n",
              "<p>Barnaby scowled. “These are <em>my</em> berries,” he grumbled, and quickly turned away, clutching his basket close.</p>\n",
              "<p>Later that day, Rosie Rabbit hopped over. Her nose twitched. “Barnaby, you have a wonderful supply of berries. My little ones are sick and need something sweet to help them feel better. Could you…?”</p>\n",
              "<p>But before Rosie could finish, Barnaby shook his head. “Go away!” he snapped, and scurried back inside his burrow.</p>\n",
              "<p>As the days went on, the meadow dried up. The sun beat down, and the berries began to wither. Barnaby ate and ate, but he couldn’t eat them fast enough. Soon, all his berries were rotten.</p>\n",
              "<p>Then, a terrible storm blew through the meadow. Barnaby’s burrow flooded! He was cold, wet, and starving.</p>\n",
              "<p>Suddenly, he heard Pipkin’s cheerful voice. \"Barnaby, come inside! We have some dry space and a few berries left.\"</p>\n",
              "<p>Rosie and her family greeted him with warm smiles, sharing their small supply of dried berries. They even let him snuggle near their warm bodies for the night. </p>\n",
              "<p>Barnaby had never felt so ashamed. He’d hoarded, and now he was without. </p>\n",
              "<p>As the storm passed, he looked at the others. He knew that sharing their kindness was far more valuable than his berries. From that day on, Barnaby always shared what he had, knowing that kindness, like berries, was always sweeter when shared.</p>\n",
              "<p><em>The moral of the story is: Sharing is caring, and kindness shared is a treasure that lasts forever.</em></p>\n",
              "            </div>\n",
              "        </div>\n",
              "        \n",
              "            <div style=\"display: flex; gap: 20px;\">\n",
              "                <div style=\"width: 80%; padding: 10px; border: 1px solid #ddd; background-color: #f2f1fe;\">\n",
              "                    \n",
              "  <style>\n",
              "  table {\n",
              "    border-collapse: collapse; /* Ensures borders don't double up */\n",
              "    width: 100%; /* Optional: makes the table full width */\n",
              "  }\n",
              "\n",
              "  tr {\n",
              "    border-bottom: 1px solid #ccc; /* Sets a bottom border for each row */\n",
              "    border-top: 1px solid #ccc; /* Sets a bottom border for each row */\n",
              "  }\n",
              "\n",
              "  th, td {\n",
              "    font-weight: bold;\n",
              "    padding: 4px; /* Adds some spacing */\n",
              "    text-align: left; /* Aligns text to the left */\n",
              "    border-right: 1px solid #ccc; /* Sets a bottom border for each row */\n",
              "    border-left: 1px solid #ccc; /* Sets a bottom border for each row */\n",
              "  }\n",
              "  img {\n",
              "    width: 30%;\n",
              "  }\n",
              "  </style>\n",
              "  <table><tr><td><b>Does the response contain a clear beginning, middle, and end?</b></td><td style='color: #27ae60'>1.0</td><td></td></tr>\n",
              "<tr><td><b>Does the story follow a logical progression of events?</b></td><td style='color: #27ae60'>1.0</td><td></td></tr>\n",
              "<tr><td><b>Does the story resolve the conflict in a satisfying manner?</b></td><td style='color: #2cc66d'>0.793</td><td></td></tr>\n",
              "<tr><td><b>Is the life lesson clearly conveyed in the story?</b></td><td style='color: #27ae60'>1.0</td><td></td></tr>\n",
              "<tr><td><b>Is the life lesson relevant to the input provided by the user?</b></td><td style='color: #27ae60'>1.0</td><td></td></tr>\n",
              "<tr><td>Total score</td><td></td><td style='color: #28b262'><b>0.959</b></td></tr>\n",
              "</table>\n",
              "                </div>\n",
              "            </div>"
            ]
          },
          "metadata": {}
        }
      ],
      "source": [
        "from withpi_utils.colab import pretty_print_responses\n",
        "\n",
        "scoring_spec = [{'question': q} for q in [\n",
        "    \"Does the response contain a clear beginning, middle, and end?\",\n",
        "    \"Does the story follow a logical progression of events?\",\n",
        "    \"Does the story resolve the conflict in a satisfying manner?\",\n",
        "    \"Is the life lesson clearly conveyed in the story?\",\n",
        "    \"Is the life lesson relevant to the input provided by the user?\"\n",
        "]]\n",
        "\n",
        "score = pi.scoring_system.score(\n",
        "    scoring_spec=scoring_spec,\n",
        "    llm_input=test_prompt,\n",
        "    llm_output=response,\n",
        ")\n",
        "\n",
        "pretty_print_responses(\n",
        "    header=\"#### Prompt:\\n\" + test_prompt,\n",
        "    response1=\"#### Response:\\n\" + response,\n",
        "    scores_left=score,\n",
        ")"
      ]
    },
    {
      "cell_type": "markdown",
      "metadata": {
        "id": "jT7s_nuJsHbM"
      },
      "source": [
        "## Next Steps\n",
        "\n",
        "Go back and try responses to see how they respond to outputs.  Try a different model.  Manually tweak the questions. Get a feel for what's happening."
      ]
    }
  ],
  "metadata": {
    "colab": {
      "provenance": [],
      "include_colab_link": true
    },
    "kernelspec": {
      "display_name": "Python 3",
      "name": "python3"
    },
    "language_info": {
      "name": "python"
    }
  },
  "nbformat": 4,
  "nbformat_minor": 0
}